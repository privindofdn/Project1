{
  "nbformat": 4,
  "nbformat_minor": 0,
  "metadata": {
    "colab": {
      "provenance": [],
      "authorship_tag": "ABX9TyMQBdExYikgdftCPIdenzMG",
      "include_colab_link": true
    },
    "kernelspec": {
      "name": "python3",
      "display_name": "Python 3"
    },
    "language_info": {
      "name": "python"
    }
  },
  "cells": [
    {
      "cell_type": "markdown",
      "metadata": {
        "id": "view-in-github",
        "colab_type": "text"
      },
      "source": [
        "<a href=\"https://colab.research.google.com/github/privindofdn/Project1/blob/main/praktikum1_G211220081.ipynb\" target=\"_parent\"><img src=\"https://colab.research.google.com/assets/colab-badge.svg\" alt=\"Open In Colab\"/></a>"
      ]
    },
    {
      "cell_type": "markdown",
      "source": [
        "**PRIVINDO FEBRIAN DWI N /\n",
        "G.211.22.0081**"
      ],
      "metadata": {
        "id": "GA-25UYNz_dQ"
      }
    },
    {
      "cell_type": "code",
      "execution_count": 1,
      "metadata": {
        "colab": {
          "base_uri": "https://localhost:8080/"
        },
        "id": "L2OFVJQ_z84Q",
        "outputId": "cd900137-6605-42cb-bd07-65c617e11cea"
      },
      "outputs": [
        {
          "output_type": "stream",
          "name": "stdout",
          "text": [
            "Ilham\n",
            "Isi teman_saya indeks ke-3 adalah: Ilham\n",
            "Semua teman: ada 5 orang\n",
            "Kamal\n",
            "Fian\n",
            "Rizal\n",
            "Ilham\n",
            "Ian\n"
          ]
        }
      ],
      "source": [
        "teman_saya = [\"Kamal\", \"Fian\", \"Rizal\", \"Ilham\",\"Ian\"]\n",
        "print(teman_saya[3])\n",
        "print (\"Isi teman_saya indeks ke-3 adalah: {}\".format(teman_saya[3]) )\n",
        "print( \"Semua teman: ada {} orang\".format(len(teman_saya)))\n",
        "for teman in teman_saya : print(teman)"
      ]
    },
    {
      "cell_type": "code",
      "source": [
        "buah = [\"Cerry\",\"mangga\",\"pepaya\",\"stroberi\",\"anggur\"]\n",
        "buah.append(\"pisang\")\n",
        "print(buah)"
      ],
      "metadata": {
        "colab": {
          "base_uri": "https://localhost:8080/"
        },
        "id": "zw7w9StW0aq2",
        "outputId": "f244e3b1-359c-48fa-eaa2-3002e929b571"
      },
      "execution_count": 3,
      "outputs": [
        {
          "output_type": "stream",
          "name": "stdout",
          "text": [
            "['Cerry', 'mangga', 'pepaya', 'stroberi', 'anggur', 'pisang']\n"
          ]
        }
      ]
    },
    {
      "cell_type": "code",
      "source": [
        "for i in range(5):\n",
        "  print(\"perulangan ke -\", i)"
      ],
      "metadata": {
        "colab": {
          "base_uri": "https://localhost:8080/"
        },
        "id": "Sk-vldoq0-HX",
        "outputId": "f743b4b7-59c3-4407-b80c-4477d7ab86e7"
      },
      "execution_count": 4,
      "outputs": [
        {
          "output_type": "stream",
          "name": "stdout",
          "text": [
            "perulangan ke - 0\n",
            "perulangan ke - 1\n",
            "perulangan ke - 2\n",
            "perulangan ke - 3\n",
            "perulangan ke - 4\n"
          ]
        }
      ]
    },
    {
      "cell_type": "code",
      "source": [
        "teman = [\"Khoirul\", \"Ilham\", \"Pripindo\", \"Nando\", \"Kamal\"]\n",
        "teman[4] = \"Hilmi\"\n",
        "print(\"Teman dekat saya adalah {}.\".format(teman[4]))\n",
        ""
      ],
      "metadata": {
        "colab": {
          "base_uri": "https://localhost:8080/"
        },
        "id": "-91UF8yb1BZD",
        "outputId": "b9b7dcba-3c8a-4d65-c7a0-77eed0d05d93"
      },
      "execution_count": 5,
      "outputs": [
        {
          "output_type": "stream",
          "name": "stdout",
          "text": [
            "Teman dekat saya adalah Hilmi.\n"
          ]
        }
      ]
    },
    {
      "cell_type": "code",
      "source": [
        "#Deklarasi List\n",
        "nilai = [2,4,6,8,10,12,14,16,18,20]\n",
        "\n",
        "#tampilkan list\n",
        "print(\"List Nilai : \\n\",nilai)\n",
        "\n",
        "#menggunakan len\n",
        "print(\"\\nJumlah Index list nilai (len) : \\n\", len(nilai))\n",
        "\n",
        "#menggunakan count\n",
        "print(\"\\nJumlah Nilai 5 Dalam List (count) : \\n\", nilai.count(2))\n",
        "\n",
        "#Menggunakan append\n",
        "print(\"\\nMenambah element dalam list (append) : \")\n",
        "nilai.append(12)\n",
        "nilai.append(10)\n",
        "print(\"List Nilai : \",nilai)\n",
        "\n",
        "#Menggunakan index\n",
        "print(\"\\nIndex ke 8 (index) : \\n\", nilai.index(12))\n",
        "\n",
        "#Menggunakan insert\n",
        "nilai.insert(1,22)\n",
        "print(\"\\nTambah Nilai List (Insert) : \\n\", nilai)\n",
        "\n",
        "#Menggunakan pop\n",
        "nilai.pop()\n",
        "nilai.pop()\n",
        "print(\"\\nList Nilai (pop) : \\n\",nilai)\n",
        "\n",
        "#Menggunakan remove\n",
        "nilai.remove(2)\n",
        "nilai.remove(4)\n",
        "print(\"\\nList Nilai (remove) : \\n\", nilai)"
      ],
      "metadata": {
        "colab": {
          "base_uri": "https://localhost:8080/"
        },
        "id": "VAz0e0Ay1SKa",
        "outputId": "88f1c724-499b-44cd-d11b-e034b08fa522"
      },
      "execution_count": 6,
      "outputs": [
        {
          "output_type": "stream",
          "name": "stdout",
          "text": [
            "List Nilai : \n",
            " [2, 4, 6, 8, 10, 12, 14, 16, 18, 20]\n",
            "\n",
            "Jumlah Index list nilai (len) : \n",
            " 10\n",
            "\n",
            "Jumlah Nilai 5 Dalam List (count) : \n",
            " 1\n",
            "\n",
            "Menambah element dalam list (append) : \n",
            "List Nilai :  [2, 4, 6, 8, 10, 12, 14, 16, 18, 20, 12, 10]\n",
            "\n",
            "Index ke 8 (index) : \n",
            " 5\n",
            "\n",
            "Tambah Nilai List (Insert) : \n",
            " [2, 22, 4, 6, 8, 10, 12, 14, 16, 18, 20, 12, 10]\n",
            "\n",
            "List Nilai (pop) : \n",
            " [2, 22, 4, 6, 8, 10, 12, 14, 16, 18, 20]\n",
            "\n",
            "List Nilai (remove) : \n",
            " [22, 6, 8, 10, 12, 14, 16, 18, 20]\n"
          ]
        }
      ]
    },
    {
      "cell_type": "code",
      "source": [
        "#Menggunakan extend\n",
        "nilai2 = [4,2,8,10]\n",
        "nilai.extend(nilai2)\n",
        "print(\"\\nList Nilai (extend : \\n\", nilai)\n",
        "\n",
        "#Menggunakan reverse\n",
        "nilai.reverse()\n",
        "print(\"\\nList Nilai (reverse) : \\n\", nilai)\n",
        "\n",
        "#Menggunakan sort\n",
        "nilai.sort()\n",
        "print(\"\\nList Nilai (sort) : \\n\", nilai)\n",
        "\n",
        "#Menggunakan Max\n",
        "print(\"\\nNilai Terbanyak (max) : \\n\", max(nilai))\n",
        "\n",
        "#Mengguankan min\n",
        "print(\"\\nNilai terendah (min) : \\n\", min(nilai))\n",
        "\n",
        "#Menggunakan Sum\n",
        "print(\"\\nTotal penjumlahan nilai dari list_nilai (sum) : \\n\",\n",
        "sum(nilai))"
      ],
      "metadata": {
        "colab": {
          "base_uri": "https://localhost:8080/"
        },
        "id": "6KHzX_ry1a7S",
        "outputId": "b2eeac47-73db-4cd8-e3ee-0f86973fbe18"
      },
      "execution_count": 7,
      "outputs": [
        {
          "output_type": "stream",
          "name": "stdout",
          "text": [
            "\n",
            "List Nilai (extend : \n",
            " [22, 6, 8, 10, 12, 14, 16, 18, 20, 4, 2, 8, 10]\n",
            "\n",
            "List Nilai (reverse) : \n",
            " [10, 8, 2, 4, 20, 18, 16, 14, 12, 10, 8, 6, 22]\n",
            "\n",
            "List Nilai (sort) : \n",
            " [2, 4, 6, 8, 8, 10, 10, 12, 14, 16, 18, 20, 22]\n",
            "\n",
            "Nilai Terbanyak (max) : \n",
            " 22\n",
            "\n",
            "Nilai terendah (min) : \n",
            " 2\n",
            "\n",
            "Total penjumlahan nilai dari list_nilai (sum) : \n",
            " 150\n"
          ]
        }
      ]
    },
    {
      "cell_type": "code",
      "source": [
        "# Deklarasi List Nama Orang\n",
        "nama_orang = [\"Privindo\", \"Hilmi\", \"Nando\", \"Fian\", \"Rizal\",\"Ezra\"]\n",
        "\n",
        "# Tampilkan List\n",
        "print(\"List Nama Orang: \\n\", nama_orang)\n",
        "\n",
        "# Menggunakan len\n",
        "print(\"\\nJumlah Index List Nama Orang (len): \\n\", len(nama_orang))\n",
        "\n",
        "# Menggunakan count\n",
        "print(\"\\nJumlah Nama Nando dalam List (count): \\n\", nama_orang.count(\"Ilham\"))\n",
        "\n",
        "# Menggunakan append\n",
        "print(\"\\nMenambah Nama ke dalam List (append): \")\n",
        "nama_orang.append(\"Tegar\")\n",
        "nama_orang.append(\"Kamal\")\n",
        "print(\"List Nama Orang: \", nama_orang)\n",
        "\n",
        "# Menggunakan index\n",
        "print(\"\\nIndex ke-3 (index): \\n\", nama_orang.index(\"Ezra\"))\n",
        "\n",
        "# Menggunakan insert\n",
        "nama_orang.insert(2, \"Privindo\")\n",
        "print(\"\\nMenambah Nama ke dalam List (Insert): \\n\", nama_orang)\n",
        "\n",
        "# Menggunakan pop\n",
        "nama_orang.pop()\n",
        "nama_orang.pop()\n",
        "print(\"\\nList Nama Orang (pop): \\n\", nama_orang)\n",
        "\n",
        "# Menggunakan remove\n",
        "nama_orang.remove(\"Privindo\")\n",
        "nama_orang.remove(\"Ezra\")\n",
        "print(\"\\nList Nama Orang (remove): \\n\", nama_orang)"
      ],
      "metadata": {
        "colab": {
          "base_uri": "https://localhost:8080/"
        },
        "id": "6Z6dwP3N1e5B",
        "outputId": "69809df2-bab6-4934-b9ab-c25afbd336e4"
      },
      "execution_count": 13,
      "outputs": [
        {
          "output_type": "stream",
          "name": "stdout",
          "text": [
            "List Nama Orang: \n",
            " ['Privindo', 'Hilmi', 'Nando', 'Fian', 'Rizal', 'Ezra']\n",
            "\n",
            "Jumlah Index List Nama Orang (len): \n",
            " 6\n",
            "\n",
            "Jumlah Nama Nando dalam List (count): \n",
            " 0\n",
            "\n",
            "Menambah Nama ke dalam List (append): \n",
            "List Nama Orang:  ['Privindo', 'Hilmi', 'Nando', 'Fian', 'Rizal', 'Ezra', 'Tegar', 'Kamal']\n",
            "\n",
            "Index ke-3 (index): \n",
            " 5\n",
            "\n",
            "Menambah Nama ke dalam List (Insert): \n",
            " ['Privindo', 'Hilmi', 'Privindo', 'Nando', 'Fian', 'Rizal', 'Ezra', 'Tegar', 'Kamal']\n",
            "\n",
            "List Nama Orang (pop): \n",
            " ['Privindo', 'Hilmi', 'Privindo', 'Nando', 'Fian', 'Rizal', 'Ezra']\n",
            "\n",
            "List Nama Orang (remove): \n",
            " ['Hilmi', 'Privindo', 'Nando', 'Fian', 'Rizal']\n"
          ]
        }
      ]
    }
  ]
}